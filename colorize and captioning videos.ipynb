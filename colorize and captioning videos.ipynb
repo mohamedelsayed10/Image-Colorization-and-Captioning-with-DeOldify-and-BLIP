{
 "cells": [
  {
   "cell_type": "code",
   "execution_count": null,
   "metadata": {},
   "outputs": [],
   "source": [
    "from PIL import Image, ImageDraw, ImageFont\n",
    "from deoldify import device\n",
    "from deoldify.device_id import DeviceId\n",
    "from deoldify.visualize import get_image_colorizer\n",
    "from transformers import pipeline\n",
    "import tempfile\n",
    "import os\n",
    "import warnings\n",
    "from UtilityFunctions import *"
   ]
  },
  {
   "cell_type": "code",
   "execution_count": null,
   "metadata": {},
   "outputs": [],
   "source": [
    "\n",
    "\n",
    "warnings.filterwarnings(\"ignore\", category=UserWarning, message=\".*Your .* set is empty.*\")\n",
    "device.set(device=DeviceId.GPU0)\n",
    "\n",
    "# Initialize DeOldify colorizer\n",
    "colorizer = get_image_colorizer(artistic=True)\n",
    "\n",
    "# Initialize image captioning pipeline\n",
    "captioner = pipeline(\"image-to-text\", model=\"Salesforce/blip-image-captioning-base\")\n",
    "\n"
   ]
  },
  {
   "cell_type": "code",
   "execution_count": null,
   "metadata": {},
   "outputs": [],
   "source": [
    "colorize_video(colorizer, captioner, \"test cases\\7062985-hd_1920_1080_24fps.mp4\", output_path='.', output_name='output', fps=24, interval=3)"
   ]
  }
 ],
 "metadata": {
  "kernelspec": {
   "display_name": "Python 3",
   "language": "python",
   "name": "python3"
  },
  "language_info": {
   "name": "python",
   "version": "3.11.3"
  }
 },
 "nbformat": 4,
 "nbformat_minor": 2
}
